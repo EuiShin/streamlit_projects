{
 "cells": [
  {
   "cell_type": "code",
   "execution_count": 7,
   "id": "e04bc988",
   "metadata": {},
   "outputs": [],
   "source": [
    "import pandas as pd\n",
    "import datetime as dt\n",
    "import numpy as np"
   ]
  },
  {
   "cell_type": "code",
   "execution_count": 23,
   "id": "9d5f6b1c",
   "metadata": {},
   "outputs": [],
   "source": [
    "n=365\n",
    "daily_data = pd.DataFrame(\n",
    "    {\n",
    "        'date':[dt.date.today()-dt.timedelta(days=i) for i in range(n)],\n",
    "        'GMV':np.random.normal(500000000, 150000000, n),\n",
    "        'DAU':np.random.normal(70000, 20000, n)\n",
    "    }\n",
    ")\n"
   ]
  },
  {
   "cell_type": "code",
   "execution_count": 29,
   "id": "14c3c395",
   "metadata": {},
   "outputs": [
    {
     "data": {
      "text/plain": [
       "np.float64(659408138.6526394)"
      ]
     },
     "execution_count": 29,
     "metadata": {},
     "output_type": "execute_result"
    }
   ],
   "source": [
    "daily_data.loc[daily_data['date'] == dt.date.today(), 'GMV'][0]"
   ]
  },
  {
   "cell_type": "code",
   "execution_count": null,
   "id": "7bbc0a3a",
   "metadata": {},
   "outputs": [],
   "source": [
    "\n"
   ]
  }
 ],
 "metadata": {
  "kernelspec": {
   "display_name": "base",
   "language": "python",
   "name": "python3"
  },
  "language_info": {
   "codemirror_mode": {
    "name": "ipython",
    "version": 3
   },
   "file_extension": ".py",
   "mimetype": "text/x-python",
   "name": "python",
   "nbconvert_exporter": "python",
   "pygments_lexer": "ipython3",
   "version": "3.11.7"
  }
 },
 "nbformat": 4,
 "nbformat_minor": 5
}
