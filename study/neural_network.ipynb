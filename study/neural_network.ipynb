{
 "cells": [
  {
   "cell_type": "code",
   "execution_count": 2,
   "id": "98aa46e7",
   "metadata": {},
   "outputs": [],
   "source": [
    "import numpy as np\n",
    "import matplotlib.pyplot as plt"
   ]
  },
  {
   "cell_type": "code",
   "execution_count": 23,
   "id": "cbd5c509",
   "metadata": {},
   "outputs": [],
   "source": [
    "def sigmoid(x):\n",
    "    return 1/(1 + np.exp(-x))\n",
    "\n",
    "def sigmoid_derivative(x):\n",
    "    return x*(1-x)"
   ]
  },
  {
   "cell_type": "code",
   "execution_count": 28,
   "id": "8a9b35aa",
   "metadata": {},
   "outputs": [],
   "source": [
    "xs = np.linspace(-10,10,100)\n",
    "ys = sigmoid(xs)\n",
    "dys = sigmoid_derivative(ys)"
   ]
  },
  {
   "cell_type": "code",
   "execution_count": 29,
   "id": "50e554d6",
   "metadata": {},
   "outputs": [
    {
     "data": {
      "text/plain": [
       "[<matplotlib.lines.Line2D at 0x1a51004de90>]"
      ]
     },
     "execution_count": 29,
     "metadata": {},
     "output_type": "execute_result"
    },
    {
     "data": {
      "image/png": "[encoded data removed]",
      "text/plain": [
       "<Figure size 640x480 with 1 Axes>"
      ]
     },
     "metadata": {},
     "output_type": "display_data"
    }
   ],
   "source": [
    "plt.plot(xs, ys)\n",
    "plt.plot(xs, dys)"
   ]
  },
  {
   "cell_type": "code",
   "execution_count": 10,
   "id": "33b6aa17",
   "metadata": {},
   "outputs": [],
   "source": [
    "inputs = np.array([\n",
    "    [0,0],\n",
    "    [0,1],\n",
    "    [1,0],\n",
    "    [1,1]\n",
    "])\n",
    "outputs = np.array([[0], [1], [1], [0]])\n",
    "\n",
    "np.random.seed(1)\n",
    "weights_input_hidden = np.random.rand(2, 4)\n",
    "weights_hidden_output = np.random.rand(4, 1)"
   ]
  },
  {
   "cell_type": "code",
   "execution_count": 11,
   "id": "fb0e64e4",
   "metadata": {},
   "outputs": [
    {
     "name": "stdout",
     "output_type": "stream",
     "text": [
      "[[4.17022005e-01 7.20324493e-01 1.14374817e-04 3.02332573e-01]\n",
      " [1.46755891e-01 9.23385948e-02 1.86260211e-01 3.45560727e-01]]\n",
      "[[0.39676747]\n",
      " [0.53881673]\n",
      " [0.41919451]\n",
      " [0.6852195 ]]\n"
     ]
    }
   ],
   "source": [
    "print(weights_input_hidden)\n",
    "print(weights_hidden_output)"
   ]
  },
  {
   "cell_type": "code",
   "execution_count": 14,
   "id": "c7e4297c",
   "metadata": {},
   "outputs": [
    {
     "name": "stdout",
     "output_type": "stream",
     "text": [
      "[[0.00000000e+00 0.00000000e+00 0.00000000e+00 0.00000000e+00]\n",
      " [1.46755891e-01 9.23385948e-02 1.86260211e-01 3.45560727e-01]\n",
      " [4.17022005e-01 7.20324493e-01 1.14374817e-04 3.02332573e-01]\n",
      " [5.63777896e-01 8.12663088e-01 1.86374586e-01 6.47893300e-01]]\n",
      "[[0.5        0.5        0.5        0.5       ]\n",
      " [0.53662327 0.52306826 0.5464309  0.58554065]\n",
      " [0.60277042 0.67267847 0.50002859 0.57501263]\n",
      " [0.63732622 0.6926767  0.54645924 0.65653557]]\n"
     ]
    }
   ],
   "source": [
    "hidden_layer_input = np.dot(inputs, weights_input_hidden)\n",
    "hidden_layer_output = sigmoid(hidden_layer_input)\n",
    "print(hidden_layer_input)\n",
    "print(hidden_layer_output)"
   ]
  },
  {
   "cell_type": "code",
   "execution_count": 15,
   "id": "50dc3ff9",
   "metadata": {},
   "outputs": [
    {
     "name": "stdout",
     "output_type": "stream",
     "text": [
      "[[1.01999911]\n",
      " [1.1250373 ]\n",
      " [1.20522923]\n",
      " [1.3050398 ]]\n",
      "[[0.73497243]\n",
      " [0.75492189]\n",
      " [0.76945373]\n",
      " [0.78668195]]\n"
     ]
    }
   ],
   "source": [
    "final_input = np.dot(hidden_layer_output, weights_hidden_output)\n",
    "final_output = sigmoid(final_input)\n",
    "print(final_input)\n",
    "print(final_output)"
   ]
  },
  {
   "cell_type": "code",
   "execution_count": 16,
   "id": "1ec60fc5",
   "metadata": {},
   "outputs": [
    {
     "name": "stdout",
     "output_type": "stream",
     "text": [
      "[[-0.73497243]\n",
      " [ 0.24507811]\n",
      " [ 0.23054627]\n",
      " [-0.78668195]]\n"
     ]
    }
   ],
   "source": [
    "error = outputs - final_output\n",
    "print(error)"
   ]
  },
  {
   "cell_type": "code",
   "execution_count": 17,
   "id": "d598bb1f",
   "metadata": {},
   "outputs": [
    {
     "name": "stdout",
     "output_type": "stream",
     "text": [
      "[[-0.14316378]\n",
      " [ 0.04534309]\n",
      " [ 0.04089768]\n",
      " [-0.13201582]]\n",
      "[[-0.01420068 -0.01928476 -0.01500337 -0.02452465]\n",
      " [ 0.00447354  0.0060949   0.00471092  0.00754015]\n",
      " [ 0.00388533  0.00485201  0.00428602  0.00684829]\n",
      " [-0.0121071  -0.01514234 -0.01371563 -0.02039838]]\n"
     ]
    }
   ],
   "source": [
    "# 역전파\n",
    "d_output = error * sigmoid_derivative(final_output)\n",
    "d_hidden = d_output.dot(weights_hidden_output.T) * sigmoid_derivative(hidden_layer_output)\n",
    "print(d_output)\n",
    "print(d_hidden)"
   ]
  },
  {
   "cell_type": "code",
   "execution_count": null,
   "id": "cb1dc180",
   "metadata": {},
   "outputs": [
    {
     "name": "stdout",
     "output_type": "stream",
     "text": [
      "[[0.39676747]\n",
      " [0.53881673]\n",
      " [0.41919451]\n",
      " [0.6852195 ]] [[4.17022005e-01 7.20324493e-01 1.14374817e-04 3.02332573e-01]\n",
      " [1.46755891e-01 9.23385948e-02 1.86260211e-01 3.45560727e-01]]\n",
      "[[0.38609398]\n",
      " [0.52763697]\n",
      " [0.40934489]\n",
      " [0.67440069]] [[ 0.41619983  0.71929546 -0.00082859  0.30097756]\n",
      " [ 0.14599253  0.09143385  0.18535974  0.3442749 ]]\n"
     ]
    }
   ],
   "source": [
    "# 가중치 업데이트\n",
    "print(weights_hidden_output)\n",
    "print(weights_input_hidden)\n",
    "\n",
    "weights_hidden_output += hidden_layer_output.T.dot(d_output) * 0.1\n",
    "weights_input_hidden += inputs.T.dot(d_hidden) * 0.1\n",
    "\n",
    "print(weights_hidden_output)\n",
    "print(weights_input_hidden)\n"
   ]
  },
  {
   "cell_type": "code",
   "execution_count": null,
   "id": "82642866",
   "metadata": {},
   "outputs": [
    {
     "name": "stdout",
     "output_type": "stream",
     "text": [
      "학습된 출력값:\n",
      "[[0.15872741]\n",
      " [0.85146619]\n",
      " [0.84676971]\n",
      " [0.14988192]]\n"
     ]
    }
   ],
   "source": [
    "inputs = np.array([\n",
    "    [0,0],\n",
    "    [0,1],\n",
    "    [1,0],\n",
    "    [1,1]\n",
    "])\n",
    "outputs = np.array([[0], [1], [1], [0]])\n",
    "\n",
    "np.random.seed(1)\n",
    "weights_input_hidden = np.random.rand(2, 4)\n",
    "weights_hidden_output = np.random.rand(4, 1)\n",
    "\n",
    "for epoch in range(10000):\n",
    "    # 순전파\n",
    "    hidden_layer_input = np.dot(inputs, weights_input_hidden)\n",
    "    hidden_layer_output = sigmoid(hidden_layer_input)\n",
    "\n",
    "    final_input = np.dot(hidden_layer_output, weights_hidden_output)\n",
    "    final_output = sigmoid(final_input)\n",
    "\n",
    "    # 오차 계산\n",
    "    error = outputs - final_output # 손실함수는 1/2*(y - yhet)^2\n",
    "\n",
    "    # 역전파\n",
    "    d_output = error * sigmoid_derivative(final_output) # w2 가 변화했을 때, output의 변화량\n",
    "    d_hidden = d_output.dot(weights_hidden_output.T) * sigmoid_derivative(hidden_layer_output) #w1이 변했을 때에 아웃풋의 변화량\n",
    "\n",
    "    # 가중치 업데이트\n",
    "    weights_hidden_output += hidden_layer_output.T.dot(d_output) * 0.1\n",
    "    weights_input_hidden += inputs.T.dot(d_hidden) * 0.1\n",
    "\n",
    "# 결과 출력\n",
    "print(\"학습된 출력값:\")\n",
    "print(final_output)"
   ]
  },
  {
   "cell_type": "code",
   "execution_count": 9,
   "id": "21610bca",
   "metadata": {},
   "outputs": [
    {
     "data": {
      "text/plain": [
       "array([[-2.74217404],\n",
       "       [-4.29621522],\n",
       "       [-4.9038123 ],\n",
       "       [ 8.60626546]])"
      ]
     },
     "execution_count": 9,
     "metadata": {},
     "output_type": "execute_result"
    }
   ],
   "source": [
    "weights_hidden_output"
   ]
  },
  {
   "cell_type": "code",
   "execution_count": 10,
   "id": "b097321c",
   "metadata": {},
   "outputs": [
    {
     "data": {
      "text/plain": [
       "array([[ 0.98501806,  4.01579119, -1.95863978,  4.75362317],\n",
       "       [-0.11402551, -1.73269041,  4.39609702,  4.70482385]])"
      ]
     },
     "execution_count": 10,
     "metadata": {},
     "output_type": "execute_result"
    }
   ],
   "source": [
    "weights_input_hidden"
   ]
  },
  {
   "cell_type": "code",
   "execution_count": 20,
   "id": "990cd4c5",
   "metadata": {},
   "outputs": [
    {
     "data": {
      "image/png": "[encoded data removed]",
      "text/plain": [
       "<Figure size 640x480 with 1 Axes>"
      ]
     },
     "metadata": {},
     "output_type": "display_data"
    }
   ],
   "source": [
    "import numpy as np\n",
    "import matplotlib.pyplot as plt\n",
    "\n",
    "# 함수와 도함수 정의\n",
    "def f(w):\n",
    "    return (w - 3)**2\n",
    "\n",
    "def grad_f(w):\n",
    "    return 2 * (w - 3)\n",
    "\n",
    "# 초기값, 학습률\n",
    "w = 0  # 시작점\n",
    "lr = 0.2  # 학습률\n",
    "w_history = [w]\n",
    "\n",
    "# 경사하강법 반복\n",
    "for _ in range(20):\n",
    "    w -= lr * grad_f(w)\n",
    "    w_history.append(w)\n",
    "\n",
    "# 시각화\n",
    "w_vals = np.linspace(-1, 6, 100)\n",
    "f_vals = f(w_vals)\n",
    "\n",
    "plt.plot(w_vals, f_vals, label='Loss Function f(w)')\n",
    "plt.scatter(w_history, f(np.array(w_history)), color='red', label='Updates')\n",
    "plt.plot(w_history, f(np.array(w_history)), color='red', linestyle='--')\n",
    "plt.xlabel('w')\n",
    "plt.ylabel('f(w)')\n",
    "plt.title('Gradient Descent')\n",
    "plt.legend()\n",
    "plt.grid(True)\n",
    "plt.show()\n"
   ]
  },
  {
   "cell_type": "code",
   "execution_count": null,
   "id": "f4653970",
   "metadata": {},
   "outputs": [],
   "source": []
  }
 ],
 "metadata": {
  "kernelspec": {
   "display_name": "base",
   "language": "python",
   "name": "python3"
  },
  "language_info": {
   "codemirror_mode": {
    "name": "ipython",
    "version": 3
   },
   "file_extension": ".py",
   "mimetype": "text/x-python",
   "name": "python",
   "nbconvert_exporter": "python",
   "pygments_lexer": "ipython3",
   "version": "3.11.7"
  }
 },
 "nbformat": 4,
 "nbformat_minor": 5
}
